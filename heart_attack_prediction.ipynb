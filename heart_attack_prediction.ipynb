{
  "nbformat": 4,
  "nbformat_minor": 0,
  "metadata": {
    "colab": {
      "name": "heart attack  prediction.ipynb",
      "private_outputs": true,
      "provenance": [],
      "mount_file_id": "11fQ4ucjsiiGH3M0DqbYiFqjeHaexIM41",
      "authorship_tag": "ABX9TyNx7tm8jNni/EFCouBq+odz",
      "include_colab_link": true
    },
    "kernelspec": {
      "name": "python3",
      "display_name": "Python 3"
    },
    "language_info": {
      "name": "python"
    },
    "accelerator": "GPU"
  },
  "cells": [
    {
      "cell_type": "markdown",
      "metadata": {
        "id": "view-in-github",
        "colab_type": "text"
      },
      "source": [
        "<a href=\"https://colab.research.google.com/github/anikatahsin2658/AI-lab-3/blob/main/heart_attack_prediction.ipynb\" target=\"_parent\"><img src=\"https://colab.research.google.com/assets/colab-badge.svg\" alt=\"Open In Colab\"/></a>"
      ]
    },
    {
      "cell_type": "code",
      "metadata": {
        "id": "SmBklVvO3AgL"
      },
      "source": [
        "import numpy as np\n",
        "import pandas as pd\n",
        "import matplotlib.pyplot as plt\n",
        "from matplotlib import rcParams\n",
        "from matplotlib.cm import rainbow\n",
        "%matplotlib inline\n",
        "import warnings\n",
        "warnings.filterwarnings('ignore')"
      ],
      "execution_count": null,
      "outputs": []
    },
    {
      "cell_type": "code",
      "metadata": {
        "id": "4BxHTyI_3E4O"
      },
      "source": [
        "from sklearn.neighbors import KNeighborsClassifier\n",
        "from sklearn.tree import DecisionTreeClassifier\n",
        "from sklearn.ensemble import RandomForestClassifier"
      ],
      "execution_count": null,
      "outputs": []
    },
    {
      "cell_type": "code",
      "metadata": {
        "id": "jBYeQCMX3JpT"
      },
      "source": [
        "df = pd.read_csv('/content/drive/MyDrive/DMLab/heart (Autosaved).csv')"
      ],
      "execution_count": null,
      "outputs": []
    },
    {
      "cell_type": "code",
      "metadata": {
        "id": "cvbv6iKf3V8a"
      },
      "source": [
        "df.info()"
      ],
      "execution_count": null,
      "outputs": []
    },
    {
      "cell_type": "code",
      "metadata": {
        "id": "lR56doaQ3ZBL"
      },
      "source": [
        "df.describe()"
      ],
      "execution_count": null,
      "outputs": []
    },
    {
      "cell_type": "code",
      "metadata": {
        "id": "agbDZXpk3mqv"
      },
      "source": [
        "import seaborn as sns\n",
        "#get correlations of each features in dataset\n",
        "corrmat = df.corr()\n",
        "top_corr_features = corrmat.index\n",
        "plt.figure(figsize=(20,20))\n",
        "#plot heat map\n",
        "g=sns.heatmap(df[top_corr_features].corr(),annot=True,cmap=\"RdYlGn\")"
      ],
      "execution_count": null,
      "outputs": []
    },
    {
      "cell_type": "code",
      "metadata": {
        "id": "nEeok3vK3oD3"
      },
      "source": [
        "df.hist()"
      ],
      "execution_count": null,
      "outputs": []
    },
    {
      "cell_type": "code",
      "metadata": {
        "id": "36wh66iX3yab"
      },
      "source": [
        "sns.set_style('whitegrid')\n",
        "sns.countplot(x='output',data=df,palette='RdBu_r')"
      ],
      "execution_count": null,
      "outputs": []
    },
    {
      "cell_type": "code",
      "metadata": {
        "id": "gMbGUkpI35LL"
      },
      "source": [
        "dataset = pd.get_dummies(df, columns = ['sex', 'cp', 'fbs', 'restecg', 'exng', 'slp', 'caa', 'thall'])"
      ],
      "execution_count": null,
      "outputs": []
    },
    {
      "cell_type": "code",
      "metadata": {
        "id": "mgTGA-0-3_O-"
      },
      "source": [
        "from sklearn.model_selection import train_test_split\n",
        "from sklearn.preprocessing import StandardScaler\n",
        "standardScaler = StandardScaler()\n",
        "columns_to_scale = ['age', 'trtbps', 'chol', 'thalachh', 'oldpeak']\n",
        "dataset[columns_to_scale] = standardScaler.fit_transform(dataset[columns_to_scale])"
      ],
      "execution_count": null,
      "outputs": []
    },
    {
      "cell_type": "code",
      "metadata": {
        "id": "klbMhQkX4Cqz"
      },
      "source": [
        "dataset.head()"
      ],
      "execution_count": null,
      "outputs": []
    },
    {
      "cell_type": "code",
      "metadata": {
        "id": "XzFd5Cg44G0F"
      },
      "source": [
        "y = dataset['output']\n",
        "X = dataset.drop(['output'], axis = 1)"
      ],
      "execution_count": null,
      "outputs": []
    },
    {
      "cell_type": "code",
      "metadata": {
        "id": "NIfGjRGr4Mw_"
      },
      "source": [
        "from sklearn.model_selection import cross_val_score\n",
        "knn_scores = []\n",
        "for k in range(1,21):\n",
        "    knn_classifier = KNeighborsClassifier(n_neighbors = k)\n",
        "    score=cross_val_score(knn_classifier,X,y,cv=10)\n",
        "    knn_scores.append(score.mean())"
      ],
      "execution_count": null,
      "outputs": []
    },
    {
      "cell_type": "code",
      "metadata": {
        "id": "oK7cnIj14__k"
      },
      "source": [
        "plt.plot([k for k in range(1, 21)], knn_scores, color = 'red')\n",
        "for i in range(1,21):\n",
        "    plt.text(i, knn_scores[i-1], (i, knn_scores[i-1]))\n",
        "plt.xticks([i for i in range(1, 21)])\n",
        "plt.xlabel('Number of Neighbors (K)')\n",
        "plt.ylabel('Scores')\n",
        "plt.title('K Neighbors Classifier scores for different K values')"
      ],
      "execution_count": null,
      "outputs": []
    },
    {
      "cell_type": "code",
      "metadata": {
        "id": "beWaz2CM5DlR"
      },
      "source": [
        "knn_classifier = KNeighborsClassifier(n_neighbors = 12)\n",
        "score=cross_val_score(knn_classifier,X,y,cv=10)"
      ],
      "execution_count": null,
      "outputs": []
    },
    {
      "cell_type": "code",
      "metadata": {
        "id": "oSTCuiEr5J6h"
      },
      "source": [
        "score.mean()"
      ],
      "execution_count": null,
      "outputs": []
    },
    {
      "cell_type": "code",
      "metadata": {
        "id": "2j4GOBEN5M0S"
      },
      "source": [
        "from sklearn.ensemble import RandomForestClassifier"
      ],
      "execution_count": null,
      "outputs": []
    },
    {
      "cell_type": "code",
      "metadata": {
        "id": "CRHEnGqO5Rgz"
      },
      "source": [
        "randomforest_classifier= RandomForestClassifier(n_estimators=10)\n",
        "\n",
        "score=cross_val_score(randomforest_classifier,X,y,cv=10)"
      ],
      "execution_count": null,
      "outputs": []
    },
    {
      "cell_type": "code",
      "metadata": {
        "id": "QgO1ICi55WBq"
      },
      "source": [
        "score.mean()"
      ],
      "execution_count": null,
      "outputs": []
    }
  ]
}