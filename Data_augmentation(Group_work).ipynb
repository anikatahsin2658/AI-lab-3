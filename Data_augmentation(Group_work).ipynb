{
  "nbformat": 4,
  "nbformat_minor": 0,
  "metadata": {
    "colab": {
      "name": "Data augmentation(Group work).ipynb",
      "private_outputs": true,
      "provenance": [],
      "mount_file_id": "1Pe1F4_h0onWhkpBZGUTuoPIynoYKmAE9",
      "authorship_tag": "ABX9TyPT3NIZtUU6Bv2JjbyDa1N1",
      "include_colab_link": true
    },
    "kernelspec": {
      "name": "python3",
      "display_name": "Python 3"
    },
    "language_info": {
      "name": "python"
    },
    "accelerator": "GPU"
  },
  "cells": [
    {
      "cell_type": "markdown",
      "metadata": {
        "id": "view-in-github",
        "colab_type": "text"
      },
      "source": [
        "<a href=\"https://colab.research.google.com/github/anikatahsin2658/AI-lab-3/blob/main/Data_augmentation(Group_work).ipynb\" target=\"_parent\"><img src=\"https://colab.research.google.com/assets/colab-badge.svg\" alt=\"Open In Colab\"/></a>"
      ]
    },
    {
      "cell_type": "code",
      "metadata": {
        "id": "xqW3dx_-i6GF"
      },
      "source": [
        "import tensorflow as tf\n",
        "from tensorflow.keras import datasets ,layers,models\n",
        "import matplotlib.pyplot as plt\n",
        "import numpy as np"
      ],
      "execution_count": null,
      "outputs": []
    },
    {
      "cell_type": "code",
      "metadata": {
        "id": "go19l0V0jCbv"
      },
      "source": [
        "!nvidia-smi"
      ],
      "execution_count": null,
      "outputs": []
    },
    {
      "cell_type": "code",
      "metadata": {
        "id": "TipmDbKGjQyr"
      },
      "source": [
        "datadir='/content/drive/MyDrive/DMLab/Animals dataset'"
      ],
      "execution_count": null,
      "outputs": []
    },
    {
      "cell_type": "code",
      "metadata": {
        "id": "cEhVWQsWk9j4"
      },
      "source": [
        "cat=['cane','cavallo','elefante','farfalla','gallina','gatto']"
      ],
      "execution_count": null,
      "outputs": []
    },
    {
      "cell_type": "code",
      "metadata": {
        "id": "e8Sy8DPNlLax"
      },
      "source": [
        "import matplotlib.image as mpimg\n",
        "import os\n",
        "import cv2"
      ],
      "execution_count": null,
      "outputs": []
    },
    {
      "cell_type": "code",
      "metadata": {
        "id": "ggdgie0QlPH9"
      },
      "source": [
        "img_size=[224,224]"
      ],
      "execution_count": null,
      "outputs": []
    },
    {
      "cell_type": "code",
      "metadata": {
        "id": "sWH2Fn-rlTTl"
      },
      "source": [
        "img_shape=(224,224)"
      ],
      "execution_count": null,
      "outputs": []
    },
    {
      "cell_type": "code",
      "metadata": {
        "id": "T6y-7XUrlWk9"
      },
      "source": [
        "data=[]\n",
        "for cats in cat:\n",
        "  folder=os.path.join(datadir,cats)\n",
        "  label=cat.index(cats)\n",
        "  for img in os.listdir(folder):\n",
        "    image=os.path.join(folder,img)\n",
        "    image_array=cv2.imread(image)\n",
        "\n",
        "    \n",
        "    image_array=cv2.resize(image_array,img_shape,interpolation=cv2.INTER_AREA)\n",
        "    data.append([image_array,label])"
      ],
      "execution_count": null,
      "outputs": []
    },
    {
      "cell_type": "code",
      "metadata": {
        "id": "Du1UuXJ0laoj"
      },
      "source": [
        "from tensorflow import keras"
      ],
      "execution_count": null,
      "outputs": []
    },
    {
      "cell_type": "code",
      "metadata": {
        "id": "p2sf1dD7lgFp"
      },
      "source": [
        "data_augmentation=keras.Sequential([\n",
        "                                    layers.experimental.preprocessing.RandomFlip(),\n",
        "                                    layers.experimental.preprocessing.RandomRotation(0.1),\n",
        "                                    layers.experimental.preprocessing.RandomZoom(0.1)\n",
        "])"
      ],
      "execution_count": null,
      "outputs": []
    },
    {
      "cell_type": "code",
      "metadata": {
        "id": "QqQ8ztAYlufY"
      },
      "source": [
        "import random\n",
        "random.shuffle(data)\n",
        "x=[]\n",
        "y=[]\n",
        "for f, l in data:\n",
        "  x.append(f)\n",
        "  y.append(l)\n",
        "x=np.array(x)\n",
        "y=np.array(y)\n",
        "x=x/255"
      ],
      "execution_count": null,
      "outputs": []
    },
    {
      "cell_type": "code",
      "metadata": {
        "id": "LTPB8y17l2LX"
      },
      "source": [
        "plt.imshow(x[2])"
      ],
      "execution_count": null,
      "outputs": []
    },
    {
      "cell_type": "code",
      "metadata": {
        "id": "eKvmqP_Jl3Fg"
      },
      "source": [
        "y[2]"
      ],
      "execution_count": null,
      "outputs": []
    },
    {
      "cell_type": "code",
      "metadata": {
        "id": "arzrUm-Gl63j"
      },
      "source": [
        "def plot_labal(x,y,i):\n",
        "  plt.imshow(x[i])\n",
        "  plt.xlabel(cat[y[i]])"
      ],
      "execution_count": null,
      "outputs": []
    },
    {
      "cell_type": "code",
      "metadata": {
        "id": "b-uukY3QmCsW"
      },
      "source": [
        "plot_labal(x,y,7)"
      ],
      "execution_count": null,
      "outputs": []
    },
    {
      "cell_type": "code",
      "metadata": {
        "id": "3kO8fH8lmDzY"
      },
      "source": [
        "from sklearn.model_selection import train_test_split\n",
        "xtrain,xtest,ytrain,ytest=train_test_split(x,y,test_size=0.3,random_state=0)"
      ],
      "execution_count": null,
      "outputs": []
    },
    {
      "cell_type": "code",
      "metadata": {
        "id": "794FqbVKmKYH"
      },
      "source": [
        "cnn=models.Sequential([\n",
        "                       data_augmentation,\n",
        "                       layers.Conv2D(filters=32,kernel_size=(3,3),activation='relu',input_shape=(224,224,3)),\n",
        "                       layers.MaxPool2D((2,2)),\n",
        "                       layers.Conv2D(filters=64,kernel_size=(3,3),activation='relu'),\n",
        "                       layers.MaxPool2D((2,2)),\n",
        "                       layers.Flatten(),\n",
        "                       layers.Dense(1000,activation='relu'),\n",
        "                       layers.Dense(6,activation='softmax')\n",
        "])\n",
        "cnn.compile(\n",
        "    optimizer='adam',\n",
        "    loss='sparse_categorical_crossentropy',\n",
        "    metrics=['accuracy']\n",
        ")"
      ],
      "execution_count": null,
      "outputs": []
    },
    {
      "cell_type": "code",
      "metadata": {
        "id": "wiSgN5iCmR-G"
      },
      "source": [
        "cnn.fit(xtrain,ytrain,epochs=50)"
      ],
      "execution_count": null,
      "outputs": []
    },
    {
      "cell_type": "code",
      "metadata": {
        "id": "2QIbKj6xmWVX"
      },
      "source": [
        "cnn.evaluate(xtest,ytest)"
      ],
      "execution_count": null,
      "outputs": []
    },
    {
      "cell_type": "code",
      "metadata": {
        "id": "YkVUgliFmcim"
      },
      "source": [
        "ypred=cnn.predict(xtest)\n",
        "ypred=[np.argmax(i) for i in ypred]"
      ],
      "execution_count": null,
      "outputs": []
    },
    {
      "cell_type": "code",
      "metadata": {
        "id": "j2Qtzy_Vmjdd"
      },
      "source": [
        "from sklearn.metrics import classification_report ,confusion_matrix"
      ],
      "execution_count": null,
      "outputs": []
    },
    {
      "cell_type": "code",
      "metadata": {
        "id": "ZxYfFzaKmmXy"
      },
      "source": [
        "print('Classification Report \\n',classification_report(ytest,ypred))"
      ],
      "execution_count": null,
      "outputs": []
    }
  ]
}